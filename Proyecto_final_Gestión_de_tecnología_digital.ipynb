{
 "nbformat": 4,
 "nbformat_minor": 0,
 "metadata": {
  "colab": {
   "provenance": [],
   "collapsed_sections": [
    "dOPa8yVzP2jH",
    "gkEVhLkfQDOc",
    "_Kvi8fbeQJq5",
    "LCgId3lRQ_vN",
    "alliFmNJR80e"
   ]
  },
  "kernelspec": {
   "name": "python3",
   "language": "python",
   "display_name": "Python 3 (ipykernel)"
  },
  "language_info": {
   "name": "python"
  }
 },
 "cells": [
  {
   "cell_type": "markdown",
   "source": [
    "#librerias"
   ],
   "metadata": {
    "id": "dOPa8yVzP2jH"
   }
  },
  {
   "cell_type": "code",
   "source": [
    "import nx"
   ],
   "metadata": {
    "id": "IllQGaqUgDZO",
    "ExecuteTime": {
     "end_time": "2024-04-27T05:10:09.542026Z",
     "start_time": "2024-04-27T05:10:09.435117Z"
    }
   },
   "execution_count": 15,
   "outputs": []
  },
  {
   "cell_type": "code",
   "execution_count": 6,
   "metadata": {
    "id": "IQHl9HLXB-XY",
    "ExecuteTime": {
     "end_time": "2024-04-27T05:06:08.167796Z",
     "start_time": "2024-04-27T05:04:32.536787Z"
    }
   },
   "outputs": [],
   "source": [
    "import pandas as pd\n",
    "import numpy as np\n",
    "import matplotlib.pyplot as plt\n",
    "from sklearn.model_selection import train_test_split, GridSearchCV\n",
    "from sklearn.linear_model import LogisticRegression\n",
    "from sklearn.preprocessing import StandardScaler\n",
    "from sklearn.pipeline import Pipeline\n",
    "from sklearn.metrics import accuracy_score\n",
    "from sklearn.impute import SimpleImputer\n",
    "import joblib\n",
    "import os"
   ]
  },
  {
   "cell_type": "markdown",
   "source": [
    "#Dataset"
   ],
   "metadata": {
    "id": "gkEVhLkfQDOc"
   }
  },
  {
   "cell_type": "code",
   "source": [
    "# Read the dataset\n",
    "\n",
    "df = pd.read_csv(\"Data/retencion-por-mes.csv\")\n",
    "df"
   ],
   "metadata": {
    "colab": {
     "base_uri": "https://localhost:8080/",
     "height": 632
    },
    "id": "fu3JFlcipZ00",
    "outputId": "09fd6522-12d7-4766-cba5-4927b6d8f3c6",
    "ExecuteTime": {
     "end_time": "2024-04-27T05:01:56.977012Z",
     "start_time": "2024-04-27T05:01:55.470061Z"
    }
   },
   "execution_count": 4,
   "outputs": [
    {
     "data": {
      "text/plain": "            Cliente Estado Cliente Mes Registro Mes de Abandono (Churn)  \\\n0     George Garcia         Active       1/2019                     NaN   \n1     James Johnson        Churned       1/2019                  3/2019   \n2     John Williams        Churned       1/2019                  8/2019   \n3      Robert Jones         Active       1/2019                     NaN   \n4     Michael Brown         Active       1/2019                     NaN   \n..              ...            ...          ...                     ...   \n325  Caroline Lyons         Active      12/2020                     NaN   \n326    Jesus Ramsey         Active      12/2020                     NaN   \n327   Herbert Wolfe         Active      12/2020                     NaN   \n328   Ian Schneider         Active      12/2020                     NaN   \n329    Leah Mullins         Active      12/2020                     NaN   \n\n     1/2019  2/2019  3/2019  4/2019  5/2019  6/2019  ...  3/2020  4/2020  \\\n0       1.0     1.0     1.0     1.0     1.0     1.0  ...     1.0     1.0   \n1       1.0     1.0     NaN     NaN     NaN     NaN  ...     NaN     NaN   \n2       1.0     1.0     1.0     1.0     1.0     1.0  ...     NaN     NaN   \n3       1.0     1.0     1.0     1.0     1.0     1.0  ...     1.0     1.0   \n4       1.0     1.0     1.0     1.0     1.0     1.0  ...     1.0     1.0   \n..      ...     ...     ...     ...     ...     ...  ...     ...     ...   \n325     NaN     NaN     NaN     NaN     NaN     NaN  ...     NaN     NaN   \n326     NaN     NaN     NaN     NaN     NaN     NaN  ...     NaN     NaN   \n327     NaN     NaN     NaN     NaN     NaN     NaN  ...     NaN     NaN   \n328     NaN     NaN     NaN     NaN     NaN     NaN  ...     NaN     NaN   \n329     NaN     NaN     NaN     NaN     NaN     NaN  ...     NaN     NaN   \n\n     5/2020  6/2020  7/2020  8/2020  9/2020  10/2020  11/2020  12/2020  \n0       1.0     1.0     1.0     1.0     1.0      1.0      1.0      1.0  \n1       NaN     NaN     NaN     NaN     NaN      NaN      NaN      NaN  \n2       NaN     NaN     NaN     NaN     NaN      NaN      NaN      NaN  \n3       1.0     1.0     1.0     1.0     1.0      1.0      1.0      1.0  \n4       1.0     1.0     1.0     1.0     1.0      1.0      1.0      1.0  \n..      ...     ...     ...     ...     ...      ...      ...      ...  \n325     NaN     NaN     NaN     NaN     NaN      NaN      NaN      1.0  \n326     NaN     NaN     NaN     NaN     NaN      NaN      NaN      1.0  \n327     NaN     NaN     NaN     NaN     NaN      NaN      NaN      1.0  \n328     NaN     NaN     NaN     NaN     NaN      NaN      NaN      1.0  \n329     NaN     NaN     NaN     NaN     NaN      NaN      NaN      1.0  \n\n[330 rows x 28 columns]",
      "text/html": "<div>\n<style scoped>\n    .dataframe tbody tr th:only-of-type {\n        vertical-align: middle;\n    }\n\n    .dataframe tbody tr th {\n        vertical-align: top;\n    }\n\n    .dataframe thead th {\n        text-align: right;\n    }\n</style>\n<table border=\"1\" class=\"dataframe\">\n  <thead>\n    <tr style=\"text-align: right;\">\n      <th></th>\n      <th>Cliente</th>\n      <th>Estado Cliente</th>\n      <th>Mes Registro</th>\n      <th>Mes de Abandono (Churn)</th>\n      <th>1/2019</th>\n      <th>2/2019</th>\n      <th>3/2019</th>\n      <th>4/2019</th>\n      <th>5/2019</th>\n      <th>6/2019</th>\n      <th>...</th>\n      <th>3/2020</th>\n      <th>4/2020</th>\n      <th>5/2020</th>\n      <th>6/2020</th>\n      <th>7/2020</th>\n      <th>8/2020</th>\n      <th>9/2020</th>\n      <th>10/2020</th>\n      <th>11/2020</th>\n      <th>12/2020</th>\n    </tr>\n  </thead>\n  <tbody>\n    <tr>\n      <th>0</th>\n      <td>George Garcia</td>\n      <td>Active</td>\n      <td>1/2019</td>\n      <td>NaN</td>\n      <td>1.0</td>\n      <td>1.0</td>\n      <td>1.0</td>\n      <td>1.0</td>\n      <td>1.0</td>\n      <td>1.0</td>\n      <td>...</td>\n      <td>1.0</td>\n      <td>1.0</td>\n      <td>1.0</td>\n      <td>1.0</td>\n      <td>1.0</td>\n      <td>1.0</td>\n      <td>1.0</td>\n      <td>1.0</td>\n      <td>1.0</td>\n      <td>1.0</td>\n    </tr>\n    <tr>\n      <th>1</th>\n      <td>James Johnson</td>\n      <td>Churned</td>\n      <td>1/2019</td>\n      <td>3/2019</td>\n      <td>1.0</td>\n      <td>1.0</td>\n      <td>NaN</td>\n      <td>NaN</td>\n      <td>NaN</td>\n      <td>NaN</td>\n      <td>...</td>\n      <td>NaN</td>\n      <td>NaN</td>\n      <td>NaN</td>\n      <td>NaN</td>\n      <td>NaN</td>\n      <td>NaN</td>\n      <td>NaN</td>\n      <td>NaN</td>\n      <td>NaN</td>\n      <td>NaN</td>\n    </tr>\n    <tr>\n      <th>2</th>\n      <td>John Williams</td>\n      <td>Churned</td>\n      <td>1/2019</td>\n      <td>8/2019</td>\n      <td>1.0</td>\n      <td>1.0</td>\n      <td>1.0</td>\n      <td>1.0</td>\n      <td>1.0</td>\n      <td>1.0</td>\n      <td>...</td>\n      <td>NaN</td>\n      <td>NaN</td>\n      <td>NaN</td>\n      <td>NaN</td>\n      <td>NaN</td>\n      <td>NaN</td>\n      <td>NaN</td>\n      <td>NaN</td>\n      <td>NaN</td>\n      <td>NaN</td>\n    </tr>\n    <tr>\n      <th>3</th>\n      <td>Robert Jones</td>\n      <td>Active</td>\n      <td>1/2019</td>\n      <td>NaN</td>\n      <td>1.0</td>\n      <td>1.0</td>\n      <td>1.0</td>\n      <td>1.0</td>\n      <td>1.0</td>\n      <td>1.0</td>\n      <td>...</td>\n      <td>1.0</td>\n      <td>1.0</td>\n      <td>1.0</td>\n      <td>1.0</td>\n      <td>1.0</td>\n      <td>1.0</td>\n      <td>1.0</td>\n      <td>1.0</td>\n      <td>1.0</td>\n      <td>1.0</td>\n    </tr>\n    <tr>\n      <th>4</th>\n      <td>Michael Brown</td>\n      <td>Active</td>\n      <td>1/2019</td>\n      <td>NaN</td>\n      <td>1.0</td>\n      <td>1.0</td>\n      <td>1.0</td>\n      <td>1.0</td>\n      <td>1.0</td>\n      <td>1.0</td>\n      <td>...</td>\n      <td>1.0</td>\n      <td>1.0</td>\n      <td>1.0</td>\n      <td>1.0</td>\n      <td>1.0</td>\n      <td>1.0</td>\n      <td>1.0</td>\n      <td>1.0</td>\n      <td>1.0</td>\n      <td>1.0</td>\n    </tr>\n    <tr>\n      <th>...</th>\n      <td>...</td>\n      <td>...</td>\n      <td>...</td>\n      <td>...</td>\n      <td>...</td>\n      <td>...</td>\n      <td>...</td>\n      <td>...</td>\n      <td>...</td>\n      <td>...</td>\n      <td>...</td>\n      <td>...</td>\n      <td>...</td>\n      <td>...</td>\n      <td>...</td>\n      <td>...</td>\n      <td>...</td>\n      <td>...</td>\n      <td>...</td>\n      <td>...</td>\n      <td>...</td>\n    </tr>\n    <tr>\n      <th>325</th>\n      <td>Caroline Lyons</td>\n      <td>Active</td>\n      <td>12/2020</td>\n      <td>NaN</td>\n      <td>NaN</td>\n      <td>NaN</td>\n      <td>NaN</td>\n      <td>NaN</td>\n      <td>NaN</td>\n      <td>NaN</td>\n      <td>...</td>\n      <td>NaN</td>\n      <td>NaN</td>\n      <td>NaN</td>\n      <td>NaN</td>\n      <td>NaN</td>\n      <td>NaN</td>\n      <td>NaN</td>\n      <td>NaN</td>\n      <td>NaN</td>\n      <td>1.0</td>\n    </tr>\n    <tr>\n      <th>326</th>\n      <td>Jesus Ramsey</td>\n      <td>Active</td>\n      <td>12/2020</td>\n      <td>NaN</td>\n      <td>NaN</td>\n      <td>NaN</td>\n      <td>NaN</td>\n      <td>NaN</td>\n      <td>NaN</td>\n      <td>NaN</td>\n      <td>...</td>\n      <td>NaN</td>\n      <td>NaN</td>\n      <td>NaN</td>\n      <td>NaN</td>\n      <td>NaN</td>\n      <td>NaN</td>\n      <td>NaN</td>\n      <td>NaN</td>\n      <td>NaN</td>\n      <td>1.0</td>\n    </tr>\n    <tr>\n      <th>327</th>\n      <td>Herbert Wolfe</td>\n      <td>Active</td>\n      <td>12/2020</td>\n      <td>NaN</td>\n      <td>NaN</td>\n      <td>NaN</td>\n      <td>NaN</td>\n      <td>NaN</td>\n      <td>NaN</td>\n      <td>NaN</td>\n      <td>...</td>\n      <td>NaN</td>\n      <td>NaN</td>\n      <td>NaN</td>\n      <td>NaN</td>\n      <td>NaN</td>\n      <td>NaN</td>\n      <td>NaN</td>\n      <td>NaN</td>\n      <td>NaN</td>\n      <td>1.0</td>\n    </tr>\n    <tr>\n      <th>328</th>\n      <td>Ian Schneider</td>\n      <td>Active</td>\n      <td>12/2020</td>\n      <td>NaN</td>\n      <td>NaN</td>\n      <td>NaN</td>\n      <td>NaN</td>\n      <td>NaN</td>\n      <td>NaN</td>\n      <td>NaN</td>\n      <td>...</td>\n      <td>NaN</td>\n      <td>NaN</td>\n      <td>NaN</td>\n      <td>NaN</td>\n      <td>NaN</td>\n      <td>NaN</td>\n      <td>NaN</td>\n      <td>NaN</td>\n      <td>NaN</td>\n      <td>1.0</td>\n    </tr>\n    <tr>\n      <th>329</th>\n      <td>Leah Mullins</td>\n      <td>Active</td>\n      <td>12/2020</td>\n      <td>NaN</td>\n      <td>NaN</td>\n      <td>NaN</td>\n      <td>NaN</td>\n      <td>NaN</td>\n      <td>NaN</td>\n      <td>NaN</td>\n      <td>...</td>\n      <td>NaN</td>\n      <td>NaN</td>\n      <td>NaN</td>\n      <td>NaN</td>\n      <td>NaN</td>\n      <td>NaN</td>\n      <td>NaN</td>\n      <td>NaN</td>\n      <td>NaN</td>\n      <td>1.0</td>\n    </tr>\n  </tbody>\n</table>\n<p>330 rows × 28 columns</p>\n</div>"
     },
     "execution_count": 4,
     "metadata": {},
     "output_type": "execute_result"
    }
   ]
  },
  {
   "cell_type": "markdown",
   "source": [
    "#Modelo y FastAPI"
   ],
   "metadata": {
    "id": "_Kvi8fbeQJq5"
   }
  },
  {
   "cell_type": "code",
   "source": [
    "# 1. Preprocessing\n",
    "\n",
    "y = df['Estado Cliente']\n",
    "x = df.drop(['Cliente', 'Estado Cliente', 'Mes Registro', 'Mes de Abandono (Churn)'], axis=1)\n",
    "\n",
    "imputer = SimpleImputer(strategy='mean')\n",
    "x_imputed = imputer.fit_transform(x)\n",
    "\n",
    "x = pd.DataFrame(x_imputed, columns=x.columns)\n",
    "\n",
    "x_train, x_test, y_train, y_test = train_test_split(x, y, test_size=0.2)\n",
    "\n",
    "# 2. Hyperparameter optimization\n",
    "\n",
    "pipeline = Pipeline([\n",
    "    ('classifier', LogisticRegression())\n",
    "])\n",
    "\n",
    "param_grid = {\n",
    "    'classifier__C': [0.1, 0.5, 1.0, 10.0]\n",
    "}\n",
    "\n",
    "# 3. Training\n",
    "\n",
    "accuracy_history = []\n",
    "precision_history = []\n",
    "recall_history = []\n",
    "\n",
    "grid_search_logistic_regression = GridSearchCV(pipeline, param_grid=param_grid, cv=5)\n",
    "for i in range(10):\n",
    "  grid_search_logistic_regression.fit(x_train, y_train)\n",
    "\n",
    "# 4. Metrics\n",
    "  y_predictions = grid_search_logistic_regression.predict(x_test)\n",
    "  accuracy = accuracy_score(y_test, y_predictions)\n",
    "  accuracy_history.append(accuracy)\n"
   ],
   "metadata": {
    "id": "Kv2UDGWHg-qg",
    "ExecuteTime": {
     "end_time": "2024-04-27T18:34:53.115471Z",
     "start_time": "2024-04-27T18:34:52.996273Z"
    }
   },
   "execution_count": 26,
   "outputs": []
  },
  {
   "cell_type": "code",
   "source": [
    "# 5. Packaging y 6. Read\n",
    "\n",
    "filename = 'Data/retencion-por-mes.pkl'\n",
    "joblib.dump(grid_search_logistic_regression, filename)\n",
    "\n",
    "model = joblib.load(filename)"
   ],
   "metadata": {
    "id": "7gtzO9B0Qs89",
    "ExecuteTime": {
     "end_time": "2024-04-27T18:35:00.410862Z",
     "start_time": "2024-04-27T18:34:55.848188Z"
    }
   },
   "execution_count": 27,
   "outputs": []
  },
  {
   "cell_type": "markdown",
   "source": [
    "#Reentrenamiento automatizado del modelo"
   ],
   "metadata": {
    "id": "LCgId3lRQ_vN"
   }
  },
  {
   "cell_type": "code",
   "source": [
    "file_path = \"Data/retencion-por-mes.csv\"\n",
    "\n",
    "def add_new_data(file_path):\n",
    "    new_data = input(\"Ingrese los nuevos datos en el siguiente formato (Cliente, Estado Cliente, Mes Registro, Mes de Abandono (Churn), 1/2019, 2/2019, ..., 12/2020): \")\n",
    "\n",
    "    new_data_list = new_data.split(\",\")\n",
    "\n",
    "    with open(file_path, \"a\") as f:\n",
    "        f.write(\"\\n\" + \",\".join(new_data_list))\n",
    "\n",
    "add_new_data(file_path)"
   ],
   "metadata": {
    "colab": {
     "base_uri": "https://localhost:8080/"
    },
    "id": "JHnQrU7MUuWN",
    "outputId": "30d29fe7-6842-45ea-a6f4-16f2406d9ad3",
    "ExecuteTime": {
     "end_time": "2024-04-27T19:44:59.873081Z",
     "start_time": "2024-04-27T19:43:53.930210Z"
    }
   },
   "execution_count": 31,
   "outputs": []
  },
  {
   "cell_type": "code",
   "source": [
    "def retrain_model(new_data_file, model):\n",
    "    new_data = pd.read_csv(new_data_file)\n",
    "\n",
    "    X_new = new_data.drop(['Cliente', 'Estado Cliente', 'Mes Registry', 'Mes de Abandono (Churn)'], axis=1)\n",
    "    y_new = new_data['Estado Cliente']\n",
    "\n",
    "    model.fit(X_new, y_new)\n",
    "\n",
    "    new_data_file_name = \"nuevos_datos_del_mes.csv\"\n",
    "    if os.path.exists(new_data_file_name):\n",
    "        # Si el archivo ya existe, añadir los nuevos datos al final\n",
    "        existing_data = pd.read_csv(new_data_file_name)\n",
    "        updated_data = pd.concat([existing_data, new_data], ignore_index=True)\n",
    "        updated_data.to_csv(new_data_file_name, index=False)\n",
    "    else:\n",
    "        # Si el archivo no existe, guardar los nuevos datos directamente\n",
    "        new_data.to_csv(new_data_file_name, index=False)\n",
    "\n",
    "    return model"
   ],
   "metadata": {
    "id": "ezQ00BJuPi59",
    "ExecuteTime": {
     "end_time": "2024-04-27T19:47:59.099628Z",
     "start_time": "2024-04-27T19:47:58.533821Z"
    }
   },
   "execution_count": 32,
   "outputs": []
  },
  {
   "cell_type": "code",
   "source": [
    "G = nx.DiGraph()\n",
    "\n",
    "G.add_nodes_from([\"Inicio\", \"nuevos datos\", \"Entrenar el modelo\",\n",
    "                  \"Guardar nuevos datos\", \"ingresa nuevos datos\",\n",
    "                  \"Agregar nuevos datos\", \"Fin\"])\n",
    "\n",
    "G.add_edges_from([(\"Inicio\", \"nuevos datos\"),\n",
    "                  (\"nuevos datos\", \"Entrenar el modelo\"),\n",
    "                  (\"Entrenar el modelo\", \"Guardar nuevos datos\"),\n",
    "                  (\"Entrenar el modelo\", \"ingresa nuevos datos\"),\n",
    "                  (\"ingresa nuevos datos\", \"Agregar nuevos datos\"),\n",
    "                  (\"Agregar nuevos datos\", \"Fin\"),\n",
    "                  (\"Guardar nuevos datos\", \"Fin\")])\n",
    "\n",
    "# Dibujamos el grafo\n",
    "plt.figure(figsize=(10, 6))\n",
    "pos = nx.spring_layout(G, seed=42)\n",
    "nx.draw(G, pos, with_labels=True, node_size=5000, node_color=\"yellow\", font_size=12, font_weight=\"bold\", arrows=True)\n",
    "plt.title(\"Flujo de ejecución del código\")\n",
    "plt.show()"
   ],
   "metadata": {
    "colab": {
     "base_uri": "https://localhost:8080/",
     "height": 659
    },
    "id": "e2KLeRIAW_02",
    "outputId": "5210008a-8127-4aeb-cb75-1584f6847f32",
    "ExecuteTime": {
     "end_time": "2024-04-27T05:10:17.112540Z",
     "start_time": "2024-04-27T05:10:16.959281Z"
    }
   },
   "execution_count": 16,
   "outputs": [
    {
     "ename": "AttributeError",
     "evalue": "module 'nx' has no attribute 'DiGraph'",
     "output_type": "error",
     "traceback": [
      "\u001B[0;31m---------------------------------------------------------------------------\u001B[0m",
      "\u001B[0;31mAttributeError\u001B[0m                            Traceback (most recent call last)",
      "Cell \u001B[0;32mIn[16], line 1\u001B[0m\n\u001B[0;32m----> 1\u001B[0m G \u001B[38;5;241m=\u001B[39m \u001B[43mnx\u001B[49m\u001B[38;5;241;43m.\u001B[39;49m\u001B[43mDiGraph\u001B[49m()\n\u001B[1;32m      3\u001B[0m G\u001B[38;5;241m.\u001B[39madd_nodes_from([\u001B[38;5;124m\"\u001B[39m\u001B[38;5;124mInicio\u001B[39m\u001B[38;5;124m\"\u001B[39m, \u001B[38;5;124m\"\u001B[39m\u001B[38;5;124mnuevos datos\u001B[39m\u001B[38;5;124m\"\u001B[39m, \u001B[38;5;124m\"\u001B[39m\u001B[38;5;124mEntrenar el modelo\u001B[39m\u001B[38;5;124m\"\u001B[39m,\n\u001B[1;32m      4\u001B[0m                   \u001B[38;5;124m\"\u001B[39m\u001B[38;5;124mGuardar nuevos datos\u001B[39m\u001B[38;5;124m\"\u001B[39m, \u001B[38;5;124m\"\u001B[39m\u001B[38;5;124mingresa nuevos datos\u001B[39m\u001B[38;5;124m\"\u001B[39m,\n\u001B[1;32m      5\u001B[0m                   \u001B[38;5;124m\"\u001B[39m\u001B[38;5;124mAgregar nuevos datos\u001B[39m\u001B[38;5;124m\"\u001B[39m, \u001B[38;5;124m\"\u001B[39m\u001B[38;5;124mFin\u001B[39m\u001B[38;5;124m\"\u001B[39m])\n\u001B[1;32m      7\u001B[0m G\u001B[38;5;241m.\u001B[39madd_edges_from([(\u001B[38;5;124m\"\u001B[39m\u001B[38;5;124mInicio\u001B[39m\u001B[38;5;124m\"\u001B[39m, \u001B[38;5;124m\"\u001B[39m\u001B[38;5;124mnuevos datos\u001B[39m\u001B[38;5;124m\"\u001B[39m),\n\u001B[1;32m      8\u001B[0m                   (\u001B[38;5;124m\"\u001B[39m\u001B[38;5;124mnuevos datos\u001B[39m\u001B[38;5;124m\"\u001B[39m, \u001B[38;5;124m\"\u001B[39m\u001B[38;5;124mEntrenar el modelo\u001B[39m\u001B[38;5;124m\"\u001B[39m),\n\u001B[1;32m      9\u001B[0m                   (\u001B[38;5;124m\"\u001B[39m\u001B[38;5;124mEntrenar el modelo\u001B[39m\u001B[38;5;124m\"\u001B[39m, \u001B[38;5;124m\"\u001B[39m\u001B[38;5;124mGuardar nuevos datos\u001B[39m\u001B[38;5;124m\"\u001B[39m),\n\u001B[0;32m   (...)\u001B[0m\n\u001B[1;32m     12\u001B[0m                   (\u001B[38;5;124m\"\u001B[39m\u001B[38;5;124mAgregar nuevos datos\u001B[39m\u001B[38;5;124m\"\u001B[39m, \u001B[38;5;124m\"\u001B[39m\u001B[38;5;124mFin\u001B[39m\u001B[38;5;124m\"\u001B[39m),\n\u001B[1;32m     13\u001B[0m                   (\u001B[38;5;124m\"\u001B[39m\u001B[38;5;124mGuardar nuevos datos\u001B[39m\u001B[38;5;124m\"\u001B[39m, \u001B[38;5;124m\"\u001B[39m\u001B[38;5;124mFin\u001B[39m\u001B[38;5;124m\"\u001B[39m)])\n",
      "\u001B[0;31mAttributeError\u001B[0m: module 'nx' has no attribute 'DiGraph'"
     ]
    }
   ]
  },
  {
   "cell_type": "markdown",
   "source": [
    "#Monitoreo del modelo:"
   ],
   "metadata": {
    "id": "alliFmNJR80e"
   }
  },
  {
   "cell_type": "code",
   "source": [
    "plt.figure(figsize=(10, 6))\n",
    "plt.plot(range(1, 11), accuracy_history, marker='o', linestyle='-', color='b', label='Accuracy')\n",
    "plt.xlabel('Iteración de entrenamiento')\n",
    "plt.ylabel('Accuracy')\n",
    "plt.title('Métrica de Accuracy durante el entrenamiento')\n",
    "plt.xticks(range(1, 11))\n",
    "plt.legend()\n",
    "plt.grid(True)\n",
    "plt.show()"
   ],
   "metadata": {
    "id": "4u-enjxbg0HR",
    "colab": {
     "base_uri": "https://localhost:8080/",
     "height": 565
    },
    "outputId": "264b9432-cfa6-46e7-fbf9-8e677c017f8e",
    "ExecuteTime": {
     "end_time": "2024-04-27T19:43:23.095947Z",
     "start_time": "2024-04-27T19:42:47.831128Z"
    }
   },
   "execution_count": 28,
   "outputs": [
    {
     "data": {
      "text/plain": "<Figure size 1000x600 with 1 Axes>",
      "image/png": "[encoded data removed]"
     },
     "metadata": {},
     "output_type": "display_data"
    }
   ]
  },
  {
   "cell_type": "code",
   "outputs": [],
   "source": [],
   "metadata": {
    "collapsed": false
   }
  }
 ]
}
